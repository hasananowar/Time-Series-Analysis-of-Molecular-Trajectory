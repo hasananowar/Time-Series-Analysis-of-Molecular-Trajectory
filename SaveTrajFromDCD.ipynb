{
 "cells": [
  {
   "cell_type": "markdown",
   "id": "8977a674",
   "metadata": {},
   "source": [
    "Script to parse 3D atomic location from MD Simulation file"
   ]
  },
  {
   "cell_type": "code",
   "execution_count": 3,
   "id": "a5abdd48",
   "metadata": {},
   "outputs": [],
   "source": [
    "import numpy as np\n",
    "import pytraj as pt"
   ]
  },
  {
   "cell_type": "code",
   "execution_count": 4,
   "id": "919871a0",
   "metadata": {},
   "outputs": [],
   "source": [
    "#load dcd file\n",
    "filepathDCD1 = '/home/hasan/Downloads/Flavanone/flavanone_traj1.dcd'\n",
    "#load prmtop file\n",
    "filepathPRM = '/home/hasan/Downloads/Flavanone/4csp_no_sol.prmtop'"
   ]
  },
  {
   "cell_type": "code",
   "execution_count": 14,
   "id": "ed6eaea5",
   "metadata": {},
   "outputs": [],
   "source": [
    "traj = pt.iterload(filepathDCD1, filepathPRM, frame_slice = [(0, 200000)])\n",
    "\n",
    "# Load all carbonyl oxygen atom (o type) from first molecule\n",
    "carbonyl_oxygen = traj[':1@%o'].xyz\n",
    "\n",
    "# first molecule contains 54 carbonyl oxygen atoms\n",
    "data = np.empty((0, 54, 3), dtype=float)\n",
    "data = np.append(data, carbonyl_oxygen, axis=0)"
   ]
  },
  {
   "cell_type": "code",
   "execution_count": 15,
   "id": "c01c0563",
   "metadata": {},
   "outputs": [],
   "source": [
    "#reshape data\n",
    "\n",
    "data_r = data.reshape(data.shape[0], -1)\n",
    "np.savetxt(\"carbonyl_oxygen_mol1_200k_1.txt\", data_r)"
   ]
  },
  {
   "cell_type": "code",
   "execution_count": 16,
   "id": "8e6c31e6",
   "metadata": {},
   "outputs": [
    {
     "data": {
      "text/plain": [
       "(200000, 216, 3)"
      ]
     },
     "execution_count": 16,
     "metadata": {},
     "output_type": "execute_result"
    }
   ],
   "source": [
    "l = np.loadtxt(\"carbonyl_oxygen_mol1_200k_1.txt\")\n",
    "data_w = l.reshape(l.shape[0], l.shape[1] // 3 , 3)\n",
    "data_w.shape"
   ]
  }
 ],
 "metadata": {
  "kernelspec": {
   "display_name": "Python 3 (ipykernel)",
   "language": "python",
   "name": "python3"
  },
  "language_info": {
   "codemirror_mode": {
    "name": "ipython",
    "version": 3
   },
   "file_extension": ".py",
   "mimetype": "text/x-python",
   "name": "python",
   "nbconvert_exporter": "python",
   "pygments_lexer": "ipython3",
   "version": "3.7.13"
  }
 },
 "nbformat": 4,
 "nbformat_minor": 5
}
