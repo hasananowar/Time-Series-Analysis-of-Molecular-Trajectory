{
 "cells": [
  {
   "cell_type": "code",
   "execution_count": 7,
   "metadata": {},
   "outputs": [],
   "source": [
    "import numpy as np\n",
    "\n",
    "# Define the activation function\n",
    "def sigmoid(x):\n",
    "    return 1 / (1 + np.exp(-x))\n",
    "\n",
    "def relu(x):\n",
    "    return np.maximum(0, x)\n"
   ]
  },
  {
   "cell_type": "code",
   "execution_count": 18,
   "metadata": {},
   "outputs": [
    {
     "name": "stdout",
     "output_type": "stream",
     "text": [
      "Output: [[0.00584132]\n",
      " [0.99312917]\n",
      " [0.99303122]\n",
      " [0.00789753]]\n"
     ]
    }
   ],
   "source": [
    "# Define the gNN class\n",
    "class GeneralizedNeuralNetwork:\n",
    "    def __init__(self, input_size, hidden_size, output_size):\n",
    "        self.weights1 = np.random.randn(input_size, hidden_size)\n",
    "        self.weights2 = np.random.randn(hidden_size, output_size)\n",
    "        self.bias1 = np.zeros((1, hidden_size))\n",
    "        self.bias2 = np.zeros((1, output_size))\n",
    "    \n",
    "    def forward(self, X):\n",
    "        self.hidden_layer = sigmoid(np.dot(X, self.weights1) + self.bias1)\n",
    "        self.output_layer = sigmoid(np.dot(self.hidden_layer, self.weights2) + self.bias2)\n",
    "        return self.output_layer\n",
    "\n",
    "# Define the input data\n",
    "X = np.array([[0, 0], [0, 1], [1, 0], [1, 1]])\n",
    "y = np.array([[0], [1], [1], [0]])\n",
    "\n",
    "# Define the gNN model\n",
    "model = GeneralizedNeuralNetwork(input_size=2, hidden_size=50, output_size=1)\n",
    "\n",
    "# Training loop\n",
    "epochs = 100000\n",
    "learning_rate = 0.1\n",
    "\n",
    "for epoch in range(epochs):\n",
    "    # Forward propagation\n",
    "    output = model.forward(X)\n",
    "    \n",
    "    # Backpropagation\n",
    "    error = y - output\n",
    "    d_output = error * output * (1 - output)\n",
    "    \n",
    "    error_hidden = np.dot(d_output, model.weights2.T)\n",
    "    d_hidden = error_hidden * model.hidden_layer * (1 - model.hidden_layer)\n",
    "    \n",
    "    # Update weights and biases\n",
    "    model.weights2 += learning_rate * np.dot(model.hidden_layer.T, d_output)\n",
    "    model.weights1 += learning_rate * np.dot(X.T, d_hidden)\n",
    "    model.bias2 += learning_rate * np.sum(d_output, axis=0, keepdims=True)\n",
    "    model.bias1 += learning_rate * np.sum(d_hidden, axis=0, keepdims=True)\n",
    "\n",
    "# Testing the model\n",
    "output = model.forward(X)\n",
    "print(\"Output:\", output)\n"
   ]
  },
  {
   "cell_type": "code",
   "execution_count": 2,
   "metadata": {},
   "outputs": [
    {
     "name": "stdout",
     "output_type": "stream",
     "text": [
      "Output: [0 0 0 1 2]\n"
     ]
    }
   ],
   "source": [
    "\n",
    "# # ReLU activation function\n",
    "# def relu(x):\n",
    "#     return np.maximum(0, x)\n",
    "\n",
    "# # Test the ReLU function\n",
    "# x = np.array([-2, -1, 0, 1, 2])\n",
    "# output = relu(x)\n",
    "# print(\"Output:\", output)"
   ]
  },
  {
   "cell_type": "code",
   "execution_count": 6,
   "metadata": {},
   "outputs": [
    {
     "data": {
      "text/plain": [
       "[<matplotlib.lines.Line2D at 0x21cccb92f10>,\n",
       " <matplotlib.lines.Line2D at 0x21cccb92fd0>]"
      ]
     },
     "execution_count": 6,
     "metadata": {},
     "output_type": "execute_result"
    },
    {
     "data": {
      "image/png": "[encoded data removed]",
      "text/plain": [
       "<Figure size 432x288 with 1 Axes>"
      ]
     },
     "metadata": {
      "needs_background": "light"
     },
     "output_type": "display_data"
    }
   ],
   "source": [
    "import matplotlib.pyplot as plt\n",
    "\n",
    "plt.plot(X, sigmoid(X))"
   ]
  }
 ],
 "metadata": {
  "kernelspec": {
   "display_name": "base",
   "language": "python",
   "name": "python3"
  },
  "language_info": {
   "codemirror_mode": {
    "name": "ipython",
    "version": 3
   },
   "file_extension": ".py",
   "mimetype": "text/x-python",
   "name": "python",
   "nbconvert_exporter": "python",
   "pygments_lexer": "ipython3",
   "version": "3.8.8"
  },
  "orig_nbformat": 4
 },
 "nbformat": 4,
 "nbformat_minor": 2
}
