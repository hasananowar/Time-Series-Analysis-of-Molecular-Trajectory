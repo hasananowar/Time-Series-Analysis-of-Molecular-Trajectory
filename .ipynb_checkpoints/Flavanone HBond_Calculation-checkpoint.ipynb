{
 "cells": [
  {
   "cell_type": "code",
   "execution_count": 2,
   "id": "893ec521",
   "metadata": {},
   "outputs": [],
   "source": [
    "# os_200_1 =  np.loadtxt(r\"C:\\Users\\mhanowar\\Downloads\\os atoms 0-800k\\os_200k_0.txt\")\n",
    "# ether_o = os_200_1.reshape(os_200_1.shape[0], os_200_1.shape[1] // 3 , 3)\n",
    "\n",
    "# o_200_1 =  np.loadtxt(r\"C:\\Users\\mhanowar\\Downloads\\o atoms 0-800k\\o_200k_0.txt\")\n",
    "# carbonyl_o = o_200_1.reshape(o_200_1.shape[0], o_200_1.shape[1] // 3 , 3)\n",
    "\n",
    "\n",
    "# nh_200_1 =  np.loadtxt(r\"C:\\Users\\mhanowar\\Downloads\\nitrogen 0-800k\\nitrogen200k-0.txt\")\n",
    "# donor_nh =nh_200_1.reshape(nh_200_1.shape[0], nh_200_1.shape[1] // 3 , 3)\n",
    "\n",
    "\n",
    "# hn_200_1 =  np.loadtxt(r\"C:\\Users\\mhanowar\\Downloads\\hn atoms 0-800k\\hn_200k_0.txt\")\n",
    "# csp_hn = hn_200_1.reshape(hn_200_1.shape[0], hn_200_1.shape[1] // 3 , 3)"
   ]
  },
  {
   "cell_type": "code",
   "execution_count": 1,
   "id": "36e1e8e3",
   "metadata": {},
   "outputs": [],
   "source": [
    "import numpy as np\n",
    "import csv\n",
    "import matplotlib.pyplot as plt\n",
    "import math\n",
    "from ipynb.fs.full.utils import split_xyz, distance_periodicity"
   ]
  },
  {
   "cell_type": "code",
   "execution_count": 4,
   "id": "c7f79477",
   "metadata": {},
   "outputs": [],
   "source": [
    "nh_200_1 =  np.loadtxt(r\"C:\\Users\\mhanowar\\Downloads\\nitrogen 0-800k\\nitrogen200k-0.txt\")\n",
    "nh_200_2 =  np.loadtxt(r\"C:\\Users\\mhanowar\\Downloads\\nitrogen 0-800k\\nitrogen200k-1.txt\")\n",
    "nh_200_3 =  np.loadtxt(r\"C:\\Users\\mhanowar\\Downloads\\nitrogen 0-800k\\nitrogen200k-2.txt\")\n",
    "nh_200_4 =  np.loadtxt(r\"C:\\Users\\mhanowar\\Downloads\\nitrogen 0-800k\\nitrogen200k-3.txt\")\n",
    "\n",
    "nh_800 = np.concatenate((nh_200_1 , nh_200_2, nh_200_3, nh_200_4), axis = 0)\n",
    "\n",
    "donor_nh = nh_800.reshape(nh_800.shape[0], nh_800.shape[1] // 3 , 3)\n",
    "\n",
    "os_200_1 =  np.loadtxt(r\"C:\\Users\\mhanowar\\Downloads\\os atoms 0-800k\\os_200k_0.txt\")\n",
    "os_200_2 =  np.loadtxt(r\"C:\\Users\\mhanowar\\Downloads\\os atoms 0-800k\\os_200k_1.txt\")\n",
    "os_200_3 =  np.loadtxt(r\"C:\\Users\\mhanowar\\Downloads\\os atoms 0-800k\\os_200k_2.txt\")\n",
    "os_200_4 =  np.loadtxt(r\"C:\\Users\\mhanowar\\Downloads\\os atoms 0-800k\\os_200k_3.txt\")\n",
    "\n",
    "os_800 = np.concatenate((os_200_1 , os_200_2, os_200_3, os_200_4), axis = 0)\n",
    "\n",
    "ether_o = os_800.reshape(os_800.shape[0], os_800.shape[1] // 3 , 3)\n",
    "\n",
    "o_200_1 =  np.loadtxt(r\"C:\\Users\\mhanowar\\Downloads\\o atoms 0-800k\\o_200k_0.txt\")\n",
    "o_200_2 =  np.loadtxt(r\"C:\\Users\\mhanowar\\Downloads\\o atoms 0-800k\\o_200k_1.txt\")\n",
    "o_200_3 =  np.loadtxt(r\"C:\\Users\\mhanowar\\Downloads\\o atoms 0-800k\\o_200k_2.txt\")\n",
    "o_200_4 =  np.loadtxt(r\"C:\\Users\\mhanowar\\Downloads\\o atoms 0-800k\\o_200k_3.txt\")\n",
    "o_800 = np.concatenate((o_200_1 , o_200_2, o_200_3, o_200_4), axis = 0)\n",
    "carbonyl_o = o_800.reshape(o_800.shape[0], o_800.shape[1] // 3 , 3)\n",
    "\n",
    "\n",
    "hn_200_1 =  np.loadtxt(r\"C:\\Users\\mhanowar\\Downloads\\hn atoms 0-800k\\hn_200k_0.txt\")\n",
    "\n",
    "hn_200_2 =  np.loadtxt(r\"C:\\Users\\mhanowar\\Downloads\\hn atoms 0-800k\\hn_200k_1.txt\")\n",
    "hn_200_3 =  np.loadtxt(r\"C:\\Users\\mhanowar\\Downloads\\hn atoms 0-800k\\hn_200k_2.txt\")\n",
    "hn_200_4 =  np.loadtxt(r\"C:\\Users\\mhanowar\\Downloads\\hn atoms 0-800k\\hn_200k_3.txt\")\n",
    "\n",
    "hn_800 = np.concatenate((hn_200_1 , hn_200_2, hn_200_3, hn_200_4), axis = 0)\n",
    "\n",
    "csp_hn = hn_800.reshape(hn_800.shape[0], hn_800.shape[1] // 3 , 3)"
   ]
  },
  {
   "cell_type": "code",
   "execution_count": 5,
   "id": "9a10397f",
   "metadata": {},
   "outputs": [],
   "source": [
    "def within_dist_query (atom1_traj, atom2_traj, total_frame, threshold):\n",
    "    \n",
    "    \"\"\"\n",
    "        Calculate the time frames where atom1 and atom2 distance is within threshold\n",
    "        \n",
    "    Parameters\n",
    "    ----------\n",
    "    atom1_traj : 3D Coordinates of atom1\n",
    "    \n",
    "    atom2_traj : 3D Coordinates of atom2\n",
    "    \n",
    "    total_frame : Time frames\n",
    "\n",
    "    Returns\n",
    "    -------\n",
    "    \n",
    "    within_dist_timestep : Timesteps where exists an instance of distance within threshold\n",
    "    \n",
    "    within_dist_atom_index : Index of atom of atom2 in every timestep that is within threshold distance of atoms of atom1_traj\n",
    "                        If there is multiple atoms of atom2_traj meet the threshold criteria, the closest atom index is returned.\n",
    "    \"\"\"\n",
    "    \n",
    "    within_dist_timestep = np.empty((0,1), dtype=int, order='C')\n",
    "    \n",
    "    within_dist_atom_index = np.empty((0,1), dtype=int, order='C')\n",
    "            \n",
    "    for frame_num in total_frame:\n",
    "        \n",
    "        atom1_traj_xyz = atom1_traj[frame_num]\n",
    "        \n",
    "        atom2_traj_xyz = atom2_traj[frame_num]\n",
    "    \n",
    "        atom2_traj_x, atom2_traj_y, atom2_traj_z = split_xyz (atom2_traj_xyz)\n",
    "    \n",
    "        dist_atom1_atom2,_ , _, _ = distance_periodicity (atom1_traj_xyz[0], atom1_traj_xyz[1],atom1_traj_xyz[2], atom2_traj_x, atom2_traj_y, atom2_traj_z)\n",
    "\n",
    "    \n",
    "        if min(dist_atom1_atom2) < threshold :\n",
    "            \n",
    "            index = np.argmin(dist_atom1_atom2) \n",
    "            \n",
    "            within_dist_atom_index = np.append(within_dist_atom_index, index)\n",
    "        \n",
    "            within_dist_timestep = np.append(within_dist_timestep, frame_num)\n",
    "            \n",
    "    return within_dist_timestep, within_dist_atom_index"
   ]
  },
  {
   "cell_type": "code",
   "execution_count": 6,
   "id": "6513f900",
   "metadata": {},
   "outputs": [],
   "source": [
    "# from pandas import DataFrame\n",
    "# from IPython.display import HTML\n",
    "# HTML(DataFrame(donor_atom_index).to_html())"
   ]
  },
  {
   "cell_type": "code",
   "execution_count": 7,
   "id": "b98b80fa",
   "metadata": {},
   "outputs": [],
   "source": [
    "def new_within_dist_query (atom1_traj, atom2_traj, atom1_index, total_frame, threshold):\n",
    "    \n",
    "    \"\"\"\n",
    "        Calculate the time frames where atom1 and atom2 distance is within threshold\n",
    "        \n",
    "    Parameters\n",
    "    ----------\n",
    "    atom1_traj : 3D Coordinates of atom1\n",
    "    \n",
    "    atom2_traj : 3D Coordinates of atom2\n",
    "    \n",
    "    total_frame : Time frames\n",
    "\n",
    "    Returns\n",
    "    -------\n",
    "    \n",
    "    within_dist_timestep : Timesteps where exists an instance of distance within threshold\n",
    "    \n",
    "    within_dist_atom_index : Index of atom of atom2 in every timestep that is within threshold distance of atoms of atom1_traj\n",
    "                        If there is multiple atoms of atom2_traj meet the threshold criteria, the closest atom index is returned.\n",
    "    \"\"\"\n",
    "    \n",
    "    within_dist_timestep = np.empty((0,1), dtype=int, order='C')\n",
    "    \n",
    "    within_dist_atom_index = np.empty((0,1), dtype=int, order='C')\n",
    "            \n",
    "    for frame_num, atom_id in zip(total_frame, atom1_index):\n",
    "        \n",
    "        atom1_traj_xyz = atom1_traj[frame_num, atom_id]\n",
    "        \n",
    "        atom2_traj_xyz = atom2_traj[frame_num]\n",
    "    \n",
    "        atom2_traj_x, atom2_traj_y, atom2_traj_z = split_xyz (atom2_traj_xyz)\n",
    "    \n",
    "        dist_atom1_atom2,_ , _, _ = distance_periodicity (atom1_traj_xyz[0], atom1_traj_xyz[1],atom1_traj_xyz[2], atom2_traj_x, atom2_traj_y, atom2_traj_z)\n",
    "\n",
    "    \n",
    "        if min(dist_atom1_atom2) < threshold :\n",
    "            \n",
    "            index = np.argmin(dist_atom1_atom2) \n",
    "            \n",
    "            within_dist_atom_index = np.append(within_dist_atom_index, index)\n",
    "        \n",
    "            within_dist_timestep = np.append(within_dist_timestep, frame_num)\n",
    "            \n",
    "    return within_dist_timestep, within_dist_atom_index"
   ]
  },
  {
   "cell_type": "code",
   "execution_count": 8,
   "id": "5cac95f2",
   "metadata": {},
   "outputs": [],
   "source": [
    "def coordinate_transform (x):\n",
    "    x = 72.475 + x  if x < 0 else x\n",
    "    return x"
   ]
  },
  {
   "cell_type": "code",
   "execution_count": 9,
   "id": "e8d952a8",
   "metadata": {},
   "outputs": [
    {
     "name": "stdout",
     "output_type": "stream",
     "text": [
      "7.474999999999994\n"
     ]
    }
   ],
   "source": [
    "def periodic_boundary (x1, x2):\n",
    "\n",
    "    \"\"\"\n",
    "    Apply periodic boundaries\n",
    "    Periodic Boundaries in X and Y direction is 72 A.\n",
    "    Z axis does not have any periodic boundary\n",
    "    \n",
    "    So, the periodicity conditions\n",
    "\n",
    "    Difference in X axis = if |x2 − x1|> 36:\n",
    "                                72 −|x2 − x1|\n",
    "                            \n",
    "                         else:\n",
    "                                x2 − x1\n",
    "    \n",
    "    Difference in Y axis = same as X\n",
    "\n",
    "    Parameters\n",
    "    ----------\n",
    "    x1 : axis coordinates of atom 1  \n",
    "    x2 : axis coordinates of atom 2 \n",
    "\n",
    "    Returns\n",
    "    -------\n",
    "    differences of coordinates values with periodicity\n",
    "\n",
    "    \"\"\"\n",
    "    \n",
    "    x1 = coordinate_transform (x1)\n",
    "    \n",
    "    x2 = coordinate_transform (x2)\n",
    "\n",
    "    coord_diff = ((x2 - x1)/abs(x2 - x1))*(72.475-abs(x2 - x1)) if abs(x2 - x1)>36.2375 else (x2 - x1)\n",
    "    \n",
    "    return coord_diff\n",
    "    \n",
    "p = periodic_boundary( 5, 70)\n",
    "print(p)"
   ]
  },
  {
   "cell_type": "code",
   "execution_count": 10,
   "id": "124b4aba",
   "metadata": {},
   "outputs": [],
   "source": [
    "def calc_hydrogen_acceptor_vector (atom1_traj, atom2_traj, atom1_index, total_frame ):\n",
    "    \n",
    "    hydrogen_acceptor_vector = np.empty((0,3), dtype=float, order='C')\n",
    "    \n",
    "    for frame_num, atom1_id in zip(total_frame, atom1_index):\n",
    "        \n",
    "        atom1_traj_xyz = atom1_traj[frame_num, atom1_id]\n",
    "        \n",
    "        atom2_traj_xyz = atom2_traj[frame_num]\n",
    "\n",
    "        x_coord_diff = periodic_boundary (atom1_traj_xyz[0], atom2_traj_xyz[0])\n",
    "        \n",
    "        y_coord_diff = periodic_boundary (atom1_traj_xyz[1], atom2_traj_xyz[1])\n",
    "    \n",
    "        z_coord_diff = (atom2_traj_xyz[2]-atom1_traj_xyz[2])\n",
    "        \n",
    "        hydrogen_acceptor_vector = np.append (hydrogen_acceptor_vector, [[x_coord_diff, y_coord_diff, z_coord_diff]], axis = 0)\n",
    "     \n",
    "     \n",
    "    return hydrogen_acceptor_vector"
   ]
  },
  {
   "cell_type": "code",
   "execution_count": 11,
   "id": "f8141926",
   "metadata": {},
   "outputs": [],
   "source": [
    "def  calc_hydrogen_donor_vector (atom1_traj, atom2_traj, atom1_index, atom2_index, total_frame ):\n",
    "    \n",
    "    hydrogen_donor_vector = np.empty((0,3), dtype=float, order='C')\n",
    "\n",
    "    for frame_num, atom1_id, atom2_id in zip(total_frame, atom1_index, atom2_index):\n",
    "        \n",
    "        atom1_traj_xyz = atom1_traj[frame_num, atom1_id]\n",
    "        \n",
    "        atom2_traj_xyz = atom2_traj[frame_num, atom2_id]\n",
    "\n",
    "    \n",
    "        x_coord_diff = periodic_boundary (atom1_traj_xyz[0], atom2_traj_xyz[0])\n",
    "        \n",
    "        y_coord_diff = periodic_boundary (atom1_traj_xyz[1], atom2_traj_xyz[1])\n",
    "        \n",
    "        z_coord_diff = (atom2_traj_xyz[2] - atom1_traj_xyz[2])\n",
    "        \n",
    "        hydrogen_donor_vector = np.append (hydrogen_donor_vector, [[x_coord_diff, y_coord_diff, z_coord_diff]], axis = 0)\n",
    "     \n",
    "    return hydrogen_donor_vector\n"
   ]
  },
  {
   "cell_type": "code",
   "execution_count": 12,
   "id": "ff57ec89",
   "metadata": {},
   "outputs": [],
   "source": [
    "def calc_angle (vector1,vector2):\n",
    "    \n",
    "    \"\"\" Returns the angle between two vectors  \"\"\" \n",
    "    \n",
    "    c = np.dot(vector1,vector2) / (np.linalg.norm(vector1)* np.linalg.norm(vector2))\n",
    "#     angle = np.arccos(np.clip(c, -1 , 1))\n",
    "    angle = np.arccos(c)\n",
    "    return angle\n"
   ]
  },
  {
   "cell_type": "code",
   "execution_count": 13,
   "id": "bd5d836a",
   "metadata": {},
   "outputs": [],
   "source": [
    "# Load time frames using perpendicular threshold\n",
    "\n",
    "# with open(r\"C:\\Users\\mhanowar\\Downloads\\Timesteps of Perpendicular distance threshold\\Threshold 5A\\RFL3_closer_than_5A_0-800K.csv\") as file_1:\n",
    "#     perpendicular_frame = np.loadtxt(file_1, delimiter=\",\")\n",
    "#     perpendicular_frame = np.array(perpendicular_frame,int)"
   ]
  },
  {
   "cell_type": "code",
   "execution_count": 70,
   "id": "5c5f247a",
   "metadata": {},
   "outputs": [],
   "source": [
    "donor_acceptor_timestep, donor_atom_index  = within_dist_query(ether_o [:, 9, :], donor_nh, total_frame = np.arange(0,800000,1), threshold = 3.5)\n",
    "\n",
    "# print (donor_atom_index)\n",
    "# print(len(donor_atom_index))"
   ]
  },
  {
   "cell_type": "code",
   "execution_count": 71,
   "id": "6e2d44b1",
   "metadata": {},
   "outputs": [],
   "source": [
    "donor_h_timestep, h_atom_index = new_within_dist_query (donor_nh, csp_hn, total_frame = donor_acceptor_timestep, atom1_index = donor_atom_index, threshold = 1.2)"
   ]
  },
  {
   "cell_type": "code",
   "execution_count": 72,
   "id": "2c101ec2",
   "metadata": {},
   "outputs": [],
   "source": [
    "# donor_acceptor_timestep, donor_atom_index  = within_dist_query(ether_o [:, 2, :], donor_nh, total_frame = np.arange(0,200000,1), threshold = 3.5)\n",
    "\n",
    "# donor_h_timestep, h_atom_index = new_within_dist_query (donor_nh, csp_hn, total_frame = donor_acceptor_timestep, atom1_index = donor_atom_index, threshold = 1.2)\n",
    "\n",
    "\n",
    "hydrogen_acceptor_vector = calc_hydrogen_acceptor_vector (atom1_traj = csp_hn, atom2_traj = ether_o [:, 9, :], atom1_index =  h_atom_index,  total_frame = donor_h_timestep)\n",
    "\n",
    "hydrogen_donor_vector = calc_hydrogen_donor_vector (atom1_traj = csp_hn, atom2_traj = donor_nh, atom1_index = h_atom_index, atom2_index = donor_atom_index, total_frame = donor_h_timestep )\n"
   ]
  },
  {
   "cell_type": "code",
   "execution_count": 73,
   "id": "06f026d6",
   "metadata": {},
   "outputs": [
    {
     "name": "stdout",
     "output_type": "stream",
     "text": [
      "1277\n"
     ]
    }
   ],
   "source": [
    "vector_angle = np.array([calc_angle(x,y) for x, y in zip(hydrogen_acceptor_vector, hydrogen_donor_vector)])\n",
    "\n",
    "bond_angle_mask = (vector_angle > 2.35619) & (vector_angle <= 3.14159)\n",
    "\n",
    "# print(len(vector_angle))\n",
    "\n",
    "print(sum(bond_angle_mask))\n",
    "\n",
    "# np.savetxt(r\"C:\\Users\\mhanowar\\Downloads\\test.csv\",c, delimiter=\",\")"
   ]
  },
  {
   "cell_type": "code",
   "execution_count": 74,
   "id": "7b21f98d",
   "metadata": {},
   "outputs": [],
   "source": [
    "h_bond_timeframe = donor_h_timestep [bond_angle_mask]\n",
    "\n",
    "N_atom_index = donor_atom_index [bond_angle_mask]\n",
    "\n",
    "H_atom_index = h_atom_index [bond_angle_mask]\n",
    "\n",
    "np.savetxt(r\"C:\\Users\\mhanowar\\Downloads\\EtherO_SFL14.csv\", np.transpose([h_bond_timeframe, N_atom_index, H_atom_index]), delimiter=\",\")\n"
   ]
  },
  {
   "cell_type": "code",
   "execution_count": 19,
   "id": "b93208cf",
   "metadata": {},
   "outputs": [],
   "source": [
    "# np.savetxt(r\"C:\\Users\\mhanowar\\Downloads\\test.csv\", np.transpose([h_bond_timeframe, N_atom_index, H_atom_index]),delimiter=\",\")"
   ]
  },
  {
   "cell_type": "code",
   "execution_count": null,
   "id": "0c92e40e",
   "metadata": {},
   "outputs": [],
   "source": []
  }
 ],
 "metadata": {
  "kernelspec": {
   "display_name": "Python 3",
   "language": "python",
   "name": "python3"
  },
  "language_info": {
   "codemirror_mode": {
    "name": "ipython",
    "version": 3
   },
   "file_extension": ".py",
   "mimetype": "text/x-python",
   "name": "python",
   "nbconvert_exporter": "python",
   "pygments_lexer": "ipython3",
   "version": "3.8.8"
  }
 },
 "nbformat": 4,
 "nbformat_minor": 5
}
