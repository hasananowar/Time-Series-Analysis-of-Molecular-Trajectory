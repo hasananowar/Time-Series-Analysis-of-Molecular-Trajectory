{
 "cells": [
  {
   "cell_type": "markdown",
   "id": "8977a674",
   "metadata": {},
   "source": [
    "Script to parse 3D atomic location from MD Simulation file"
   ]
  },
  {
   "cell_type": "code",
   "execution_count": 1,
   "id": "a5abdd48",
   "metadata": {},
   "outputs": [],
   "source": [
    "import numpy as np\n",
    "import pytraj as pt"
   ]
  },
  {
   "cell_type": "code",
   "execution_count": 13,
   "metadata": {},
   "outputs": [],
   "source": [
    "#load dcd file\n",
    "filepathDCD1 = '/home/vm-user/Downloads/traj2.dcd'\n",
    "#load prmtop file\n",
    "filepathPRM = '/home/vm-user/Downloads/4csp_no_sol.prmtop'"
   ]
  },
  {
   "cell_type": "code",
   "execution_count": 19,
   "id": "ed6eaea5",
   "metadata": {},
   "outputs": [],
   "source": [
    "traj = pt.iterload(filepathDCD1, filepathPRM, frame_slice = [(0, 10000)])\n",
    "\n",
    "#traj = pt.load(filepathDCD1, filepathPRM, frame_indices = [0])\n",
    "\n",
    "# Load all carbonyl oxygen, ether oxygen, hydrogen atom from first 10000 timeframe\n",
    "focused_atoms = traj['(:1-14)&(@%o,os,hn)'].xyz\n",
    "\n",
    "# a = \n",
    "\n",
    "# data = np.empty((0, 0, 3), dtype=float)\n",
    "# data = np.append(data, focused_atoms, axis=0)\n",
    "\n",
    "data = np.array(focused_atoms)"
   ]
  },
  {
   "cell_type": "code",
   "execution_count": 20,
   "id": "0935cba7",
   "metadata": {},
   "outputs": [],
   "source": [
    "np.save(\"/home/vm-user/Downloads/data10k.npy\", data)"
   ]
  }
 ],
 "metadata": {
  "kernelspec": {
   "display_name": "Python 3 (ipykernel)",
   "language": "python",
   "name": "python3"
  },
  "language_info": {
   "codemirror_mode": {
    "name": "ipython",
    "version": 3
   },
   "file_extension": ".py",
   "mimetype": "text/x-python",
   "name": "python",
   "nbconvert_exporter": "python",
   "pygments_lexer": "ipython3",
   "version": "3.6.13"
  }
 },
 "nbformat": 4,
 "nbformat_minor": 5
}
