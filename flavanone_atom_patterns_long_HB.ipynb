{
 "cells": [
  {
   "cell_type": "code",
   "execution_count": 34,
   "id": "e4e0f7a0",
   "metadata": {},
   "outputs": [
    {
     "data": {
      "text/plain": [
       "donor      7445.0\n",
       "count    143404.0\n",
       "dtype: float64"
      ]
     },
     "execution_count": 34,
     "metadata": {},
     "output_type": "execute_result"
    }
   ],
   "source": [
    "import pandas as pd\n",
    "data = pd.read_csv(r\"C:\\Users\\mhanowar\\Box\\Iowa State Research\\Shared Materials_Abdullah_Hasan\\Patterns during long HB\\donor number and count.csv\")\n",
    "data.sum()"
   ]
  },
  {
   "cell_type": "code",
   "execution_count": 44,
   "id": "a505f92c",
   "metadata": {},
   "outputs": [
    {
     "data": {
      "text/plain": [
       "donor      7445.0\n",
       "count    143404.0\n",
       "dtype: float64"
      ]
     },
     "execution_count": 44,
     "metadata": {},
     "output_type": "execute_result"
    }
   ],
   "source": [
    "p = data[data.donor < 54*4]\n",
    "p.sum()"
   ]
  },
  {
   "cell_type": "code",
   "execution_count": null,
   "id": "0374f729",
   "metadata": {},
   "outputs": [],
   "source": [
    "data[data.donor < 54].count.sum()"
   ]
  },
  {
   "cell_type": "code",
   "execution_count": null,
   "id": "0cf4faa4",
   "metadata": {},
   "outputs": [],
   "source": []
  }
 ],
 "metadata": {
  "kernelspec": {
   "display_name": "Python 3",
   "language": "python",
   "name": "python3"
  },
  "language_info": {
   "codemirror_mode": {
    "name": "ipython",
    "version": 3
   },
   "file_extension": ".py",
   "mimetype": "text/x-python",
   "name": "python",
   "nbconvert_exporter": "python",
   "pygments_lexer": "ipython3",
   "version": "3.8.8"
  }
 },
 "nbformat": 4,
 "nbformat_minor": 5
}
