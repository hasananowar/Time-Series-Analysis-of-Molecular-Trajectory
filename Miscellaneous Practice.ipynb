{
 "cells": [
  {
   "cell_type": "code",
   "execution_count": 28,
   "id": "36e1e8e3",
   "metadata": {},
   "outputs": [],
   "source": [
    "import numpy as np\n",
    "import csv\n",
    "import matplotlib.pyplot as plt\n",
    "import math\n",
    "from ipynb.fs.full.utils import split_xyz, distance_periodicity"
   ]
  },
  {
   "cell_type": "code",
   "execution_count": 29,
   "id": "c7f79477",
   "metadata": {},
   "outputs": [
    {
     "name": "stdout",
     "output_type": "stream",
     "text": [
      "(200000, 648)\n"
     ]
    }
   ],
   "source": [
    "data =  np.loadtxt(r\"C:\\Users\\mhanowar\\Box\\Iowa State Research\\Flavanone Data\\nitrogen 0-800k\\nitrogen200k-1.txt\")\n",
    "#data =  np.loadtxt(r\"C:\\Users\\mhanowar\\Box\\Iowa State Research\\Flavanone Data\\o atoms 0-800k\\o_200k_0.txt\")\n",
    "print (data.shape)\n"
   ]
  },
  {
   "cell_type": "code",
   "execution_count": 30,
   "id": "b9a0399a",
   "metadata": {},
   "outputs": [
    {
     "name": "stdout",
     "output_type": "stream",
     "text": [
      "(200000, 216, 3)\n"
     ]
    }
   ],
   "source": [
    "data_reshaped = data.reshape(data.shape[0], data.shape[1] // 3 , 3)\n",
    "print(data_reshaped.shape)"
   ]
  },
  {
   "cell_type": "code",
   "execution_count": 77,
   "id": "35c84dac",
   "metadata": {},
   "outputs": [],
   "source": [
    "p = 59554\n",
    "q = 32\n",
    "r = 59555\n",
    "s = 27"
   ]
  },
  {
   "cell_type": "code",
   "execution_count": 78,
   "id": "39769f7c",
   "metadata": {},
   "outputs": [],
   "source": [
    "atom1= data_reshaped[p,q]\n",
    "\n",
    "atom2 = data_reshaped[r,s]\n"
   ]
  },
  {
   "cell_type": "code",
   "execution_count": 80,
   "id": "12693636",
   "metadata": {},
   "outputs": [
    {
     "data": {
      "text/plain": [
       "4.9568951956625575"
      ]
     },
     "execution_count": 80,
     "metadata": {},
     "output_type": "execute_result"
    }
   ],
   "source": [
    "dist = np.linalg.norm(atom1 -  atom2)\n",
    "dist"
   ]
  },
  {
   "cell_type": "code",
   "execution_count": 79,
   "id": "25445c25",
   "metadata": {},
   "outputs": [
    {
     "data": {
      "text/plain": [
       "4.9568951956625575"
      ]
     },
     "execution_count": 79,
     "metadata": {},
     "output_type": "execute_result"
    }
   ],
   "source": [
    "x_coord_diff = (72.475-abs(atom2[0] - atom1[0])) if abs(atom2[0] - atom1[0])>36.2375 else (atom2[0] - atom1[0])\n",
    "    \n",
    "y_coord_diff = (72.475-abs(atom2[1] - atom1[1])) if abs(atom2[1] - atom1[1])>36.2375 else (atom2[1] - atom1[1])\n",
    "        \n",
    "z_coord_diff = atom2[2] - atom1[2]\n",
    "\n",
    "euclidean_distance = np.sqrt(np.square(x_coord_diff) + np.square(y_coord_diff) + np.square(z_coord_diff))\n",
    "euclidean_distance"
   ]
  },
  {
   "cell_type": "code",
   "execution_count": null,
   "id": "9fd7ee23",
   "metadata": {},
   "outputs": [],
   "source": []
  }
 ],
 "metadata": {
  "kernelspec": {
   "display_name": "Python 3",
   "language": "python",
   "name": "python3"
  },
  "language_info": {
   "codemirror_mode": {
    "name": "ipython",
    "version": 3
   },
   "file_extension": ".py",
   "mimetype": "text/x-python",
   "name": "python",
   "nbconvert_exporter": "python",
   "pygments_lexer": "ipython3",
   "version": "3.8.8"
  }
 },
 "nbformat": 4,
 "nbformat_minor": 5
}
